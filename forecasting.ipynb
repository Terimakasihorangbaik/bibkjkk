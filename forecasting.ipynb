{
 "cells": [
  {
   "cell_type": "code",
   "execution_count": 4,
   "metadata": {},
   "outputs": [
    {
     "data": {
      "text/plain": [
       "2023   -15041.08629\n",
       "dtype: float64"
      ]
     },
     "execution_count": 4,
     "metadata": {},
     "output_type": "execute_result"
    }
   ],
   "source": [
    "import pandas as pd\n",
    "from statsmodels.tsa.holtwinters import ExponentialSmoothing\n",
    "\n",
    "# Data tabel pivot\n",
    "data = {\n",
    "   'Year': [2005, 2006, 2007, 2008, 2009, 2010, 2011, 2012, 2013, 2014, 2015, 2016, 2017, 2018, 2019, 2020, 2021, 2022],\n",
    "   'Demam Berdarah': [91, 1196, 1599, 1187, 1420, 1358, 597, 816, 871, 907, 1215, 1598, 493, 467, 919, 661, 705, 1237]\n",
    "}\n",
    "\n",
    "# Membuat DataFrame dari data tabel pivot\n",
    "df = pd.DataFrame(data)\n",
    "\n",
    "# Menghapus kolom 'Year' karena kita hanya perlu jumlah kematian\n",
    "df_numeric = df.drop('Year', axis=1)\n",
    "\n",
    "# Membuat model Exponential Smoothing\n",
    "model = ExponentialSmoothing(df_numeric, trend='add', seasonal=None)\n",
    "model_fit = model.fit()\n",
    "\n",
    "# Melakukan prediksi untuk tahun 2023\n",
    "prediksi_2023 = model_fit.predict(start=2023, end=2023)\n",
    "\n",
    "prediksi_2023\n",
    "\n"
   ]
  }
 ],
 "metadata": {
  "kernelspec": {
   "display_name": "Python 3",
   "language": "python",
   "name": "python3"
  },
  "language_info": {
   "codemirror_mode": {
    "name": "ipython",
    "version": 3
   },
   "file_extension": ".py",
   "mimetype": "text/x-python",
   "name": "python",
   "nbconvert_exporter": "python",
   "pygments_lexer": "ipython3",
   "version": "3.10.11"
  },
  "orig_nbformat": 4
 },
 "nbformat": 4,
 "nbformat_minor": 2
}
